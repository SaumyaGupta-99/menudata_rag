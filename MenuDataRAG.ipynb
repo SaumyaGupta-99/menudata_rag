{
  "cells": [
    {
      "cell_type": "markdown",
      "metadata": {
        "id": "view-in-github",
        "colab_type": "text"
      },
      "source": [
        "<a href=\"https://colab.research.google.com/github/SaumyaGupta-99/menudata_rag/blob/main/MenuDataRAG.ipynb\" target=\"_parent\"><img src=\"https://colab.research.google.com/assets/colab-badge.svg\" alt=\"Open In Colab\"/></a>"
      ]
    },
    {
      "cell_type": "code",
      "source": [
        "# Installing libraries needed\n",
        "!pip install python-dotenv faiss-cpu openai==0.28"
      ],
      "metadata": {
        "id": "rVYPLl9X9o9t",
        "colab": {
          "base_uri": "https://localhost:8080/"
        },
        "outputId": "f441ee8b-57eb-4de4-839f-07d87e290b66"
      },
      "execution_count": 1,
      "outputs": [
        {
          "output_type": "stream",
          "name": "stdout",
          "text": [
            "Collecting python-dotenv\n",
            "  Downloading python_dotenv-1.0.1-py3-none-any.whl.metadata (23 kB)\n",
            "Collecting faiss-cpu\n",
            "  Downloading faiss_cpu-1.10.0-cp311-cp311-manylinux_2_28_x86_64.whl.metadata (4.4 kB)\n",
            "Collecting openai==0.28\n",
            "  Downloading openai-0.28.0-py3-none-any.whl.metadata (13 kB)\n",
            "Requirement already satisfied: requests>=2.20 in /usr/local/lib/python3.11/dist-packages (from openai==0.28) (2.32.3)\n",
            "Requirement already satisfied: tqdm in /usr/local/lib/python3.11/dist-packages (from openai==0.28) (4.67.1)\n",
            "Requirement already satisfied: aiohttp in /usr/local/lib/python3.11/dist-packages (from openai==0.28) (3.11.11)\n",
            "Requirement already satisfied: numpy<3.0,>=1.25.0 in /usr/local/lib/python3.11/dist-packages (from faiss-cpu) (1.26.4)\n",
            "Requirement already satisfied: packaging in /usr/local/lib/python3.11/dist-packages (from faiss-cpu) (24.2)\n",
            "Requirement already satisfied: charset-normalizer<4,>=2 in /usr/local/lib/python3.11/dist-packages (from requests>=2.20->openai==0.28) (3.4.1)\n",
            "Requirement already satisfied: idna<4,>=2.5 in /usr/local/lib/python3.11/dist-packages (from requests>=2.20->openai==0.28) (3.10)\n",
            "Requirement already satisfied: urllib3<3,>=1.21.1 in /usr/local/lib/python3.11/dist-packages (from requests>=2.20->openai==0.28) (2.3.0)\n",
            "Requirement already satisfied: certifi>=2017.4.17 in /usr/local/lib/python3.11/dist-packages (from requests>=2.20->openai==0.28) (2025.1.31)\n",
            "Requirement already satisfied: aiohappyeyeballs>=2.3.0 in /usr/local/lib/python3.11/dist-packages (from aiohttp->openai==0.28) (2.4.4)\n",
            "Requirement already satisfied: aiosignal>=1.1.2 in /usr/local/lib/python3.11/dist-packages (from aiohttp->openai==0.28) (1.3.2)\n",
            "Requirement already satisfied: attrs>=17.3.0 in /usr/local/lib/python3.11/dist-packages (from aiohttp->openai==0.28) (25.1.0)\n",
            "Requirement already satisfied: frozenlist>=1.1.1 in /usr/local/lib/python3.11/dist-packages (from aiohttp->openai==0.28) (1.5.0)\n",
            "Requirement already satisfied: multidict<7.0,>=4.5 in /usr/local/lib/python3.11/dist-packages (from aiohttp->openai==0.28) (6.1.0)\n",
            "Requirement already satisfied: propcache>=0.2.0 in /usr/local/lib/python3.11/dist-packages (from aiohttp->openai==0.28) (0.2.1)\n",
            "Requirement already satisfied: yarl<2.0,>=1.17.0 in /usr/local/lib/python3.11/dist-packages (from aiohttp->openai==0.28) (1.18.3)\n",
            "Downloading openai-0.28.0-py3-none-any.whl (76 kB)\n",
            "\u001b[2K   \u001b[90m━━━━━━━━━━━━━━━━━━━━━━━━━━━━━━━━━━━━━━━━\u001b[0m \u001b[32m76.5/76.5 kB\u001b[0m \u001b[31m3.1 MB/s\u001b[0m eta \u001b[36m0:00:00\u001b[0m\n",
            "\u001b[?25hDownloading python_dotenv-1.0.1-py3-none-any.whl (19 kB)\n",
            "Downloading faiss_cpu-1.10.0-cp311-cp311-manylinux_2_28_x86_64.whl (30.7 MB)\n",
            "\u001b[2K   \u001b[90m━━━━━━━━━━━━━━━━━━━━━━━━━━━━━━━━━━━━━━━━\u001b[0m \u001b[32m30.7/30.7 MB\u001b[0m \u001b[31m13.5 MB/s\u001b[0m eta \u001b[36m0:00:00\u001b[0m\n",
            "\u001b[?25hInstalling collected packages: python-dotenv, faiss-cpu, openai\n",
            "  Attempting uninstall: openai\n",
            "    Found existing installation: openai 1.61.1\n",
            "    Uninstalling openai-1.61.1:\n",
            "      Successfully uninstalled openai-1.61.1\n",
            "Successfully installed faiss-cpu-1.10.0 openai-0.28.0 python-dotenv-1.0.1\n"
          ]
        }
      ]
    },
    {
      "cell_type": "code",
      "execution_count": 2,
      "metadata": {
        "colab": {
          "base_uri": "https://localhost:8080/"
        },
        "id": "PLkabngh7V2T",
        "outputId": "f7f3b849-706f-4942-b462-03708e41d117"
      },
      "outputs": [
        {
          "output_type": "stream",
          "name": "stdout",
          "text": [
            "Mounted at /content/drive\n"
          ]
        }
      ],
      "source": [
        "# Mounting my drive\n",
        "from google.colab import drive\n",
        "drive.mount('/content/drive',force_remount=True)"
      ]
    },
    {
      "cell_type": "code",
      "source": [
        "import os\n",
        "import requests\n",
        "from bs4 import BeautifulSoup\n",
        "from dotenv import load_dotenv\n",
        "import pandas as pd\n",
        "import re\n",
        "import os\n",
        "import numpy as np\n",
        "import faiss\n",
        "import torch\n",
        "from transformers import AutoTokenizer, AutoModel\n",
        "from langchain.text_splitter import RecursiveCharacterTextSplitter\n",
        "import openai"
      ],
      "metadata": {
        "id": "o8-wed8N_sJz"
      },
      "execution_count": 3,
      "outputs": []
    },
    {
      "cell_type": "code",
      "execution_count": 4,
      "metadata": {
        "id": "H_zp2IPz7f0Z"
      },
      "outputs": [],
      "source": [
        "current_working_directory = os.getcwd()\n",
        "csv_file = current_working_directory + '/drive/MyDrive/Sample_Ingredients_File-MenuData_Mission_District_Sample_File-Sheet1.csv'"
      ]
    },
    {
      "cell_type": "code",
      "source": [
        "env_path = os.path.join(current_working_directory, \"drive/MyDrive/faiss_index/secrets.txt\")\n",
        "load_dotenv(env_path)\n",
        "\n",
        "open_ai_key = os.getenv('API_KEY')"
      ],
      "metadata": {
        "id": "7OSFZVWp4rcE"
      },
      "execution_count": 5,
      "outputs": []
    },
    {
      "cell_type": "code",
      "execution_count": 6,
      "metadata": {
        "id": "kj1gp1hP7zx5"
      },
      "outputs": [],
      "source": [
        "web_urls= [\"https://en.wikipedia.org/wiki/Ingredient#:~:text=In%20a%20general%20sense%2C%20an,its%20use%20in%20different%20recipes.\",\n",
        " \"https://www.masterclass.com/articles/ingredients-for-traditional-indian-cooking\",\n",
        " \"https://www.tastingtable.com/689854/10-essential-ingredients-for-indian-cooking/\",\n",
        " \"https://www.allrecipes.com/article/essential-italian-pantry-ingredients/\",\n",
        " \"https://en.wikipedia.org/wiki/American_cuisine\",\n",
        " \"https://en.wikipedia.org/wiki/Indian_cuisine\",\n",
        " \"https://en.wikipedia.org/wiki/Italian_cuisine\",\n",
        " \"https://www.tasteofhome.com/collection/desserts-from-around-the-world/?srsltid=AfmBOopJExfZcF137ou1NsvEQim6asBJinKh4KtxxGge047IsEicDTH4\",\n",
        " \"https://www.cnn.com/travel/article/world-50-best-desserts/index.html\",\n",
        " \"https://www.gazirestaurant.com.au/history-and-origins-of-heritage-cuisine-cultural-and-historical-significance-of-these-dishes\",\n",
        " \"https://library.fiveable.me/international-food-culture/unit-8/iconic-national-dishes-cultural-significance/study-guide/W4qLi90TWK1AeLbV\",\n",
        " \"https://letseattheworld.com/understanding-culture-through-food/\",\n",
        " \"https://www.slofoodbank.org/food-as-culture/\",\n",
        " \"https://thespanishgroup.org/blog/cuisine-and-culture-how-food-reflects-societies-around-the-globe/\",\n",
        " \"https://priceonomics.com/what-are-the-defining-ingredients-of-a-cultures/\",\n",
        " \"https://www.connerprairie.org/blog-what-food-reveals-about-ourselves/\",\n",
        " \"https://www.connerprairie.org/blog-what-food-reveals-about-ourselves/\",\n",
        " \"https://en.wikipedia.org/wiki/Fusion_cuisine\",\n",
        " \"https://en.wikipedia.org/wiki/Sephardic_Jewish_cuisine\",\n",
        " \"https://www.allrecipes.com/hersheys-frozen-cake-bites-walmart-8781140\",\n",
        " \"https://www.newyorker.com/magazine/2025/02/10/trend-alert-raw-milk-luxe-travel-and-knitting\",\n",
        " \"https://people.com/we-tried-starbucks-new-blackberry-sage-refreshers-8784889\",\n",
        " \"https://www.foodandwine.com/frozen-grapes-sour-8783516\",\n",
        " \"https://www.bhg.com/mccormick-flavor-of-the-year-2025-8783787\",\n",
        " \"https://www.allrecipes.com/mccormick-launching-aji-amarillo-seasoning-8780854\",\n",
        " \"https://www.foodbusinessnews.net/articles/27365-flavors-to-watch-in-2025\",\n",
        " \"https://www.tripadvisor.com/Restaurants-g60745-Boston_Massachusetts.html\",\n",
        " \"https://www.preparedfoods.com/articles/130122-six-ingredient-trends-to-keep-an-eye-on-in-2025\",\n",
        " \"https://www.ift.org/news-and-publications/food-technology-magazine/issues/2024/october/features/outlook-2025-flavor-trends\",\n",
        " \"https://sf.eater.com/maps/best-restaurants-san-francisco-38\",\n",
        " \"https://www.tripadvisor.com/Restaurants-g60713-San_Francisco_California.html\",\n",
        " \"https://www.yelp.com/search?find_desc=Impossible+Burger&find_loc=Los+Angeles%2C+CA\",\n",
        " \"https://la.eater.com/maps/beyond-meat-impossible-burgers-los-angeles-map\",\n",
        " \"https://www.findmeglutenfree.com/us/ma/boston/pizza\",\n",
        " \"https://www.sfchronicle.com/food/restaurants/article/bay-area-dessert-ice-19777861.php\",\n",
        " \"https://sfstandard.com/2024/12/09/the-best-pastries-at-sfs-hottest-new-bakeries/\",\n",
        " \"https://www.instagram.com/kulfipdx/reel/DE-z8tvzcEz/saffron-pistachio-our-top-selling-ice-cream-flavor-of-2024-%EF%B8%8Fwith-a-dreamy-blend-/\",\n",
        " \"https://www.nrn.com/food-trends/sorting-out-saffron\"\n",
        " ]"
      ]
    },
    {
      "cell_type": "code",
      "execution_count": 7,
      "metadata": {
        "id": "bY0vnfoe72QS"
      },
      "outputs": [],
      "source": [
        "# Scrape Website Content\n",
        "def scrape_website(url):\n",
        "    \"\"\"Extracts text from a webpage.\"\"\"\n",
        "    response = requests.get(url, headers={\"User-Agent\": \"Mozilla/5.0\"})\n",
        "    if response.status_code != 200:\n",
        "        return None\n",
        "    soup = BeautifulSoup(response.text, \"html.parser\")\n",
        "    return soup.get_text()"
      ]
    },
    {
      "cell_type": "code",
      "execution_count": 8,
      "metadata": {
        "id": "Z_DxnI4BASf-"
      },
      "outputs": [],
      "source": [
        "# Function to process each row into a structured text format\n",
        "def format_row_for_embedding(row):\n",
        "    \"\"\"Formats a row from the dataframe into a clean text chunk for embeddings.\"\"\"\n",
        "    structured_text = f\"\"\"\n",
        "    Restaurant Name: {row['restaurant_name']}\n",
        "    Menu Category: {row['menu_category']}\n",
        "    Menu Item: {row['menu_item']}\n",
        "    Description: {row['menu_description']}\n",
        "    Ingredients: {row['ingredient_name']}\n",
        "    Categories: {row['categories']}\n",
        "    Address: {row['address1']}, {row['city']}, {row['state']}, {row['zip_code']}, {row['country']}\n",
        "    Rating: {row['rating']}\n",
        "    Review Count: {row['review_count']}\n",
        "    Price: {row['price']}\n",
        "    \"\"\"\n",
        "    return structured_text.strip()"
      ]
    },
    {
      "cell_type": "code",
      "execution_count": 9,
      "metadata": {
        "id": "UT6R7c2--Obi"
      },
      "outputs": [],
      "source": [
        "def clean_text(text):\n",
        "    \"\"\"Cleans text by removing unnecessary characters, extra spaces, and normalizing.\"\"\"\n",
        "    if not text:\n",
        "        return \"\"\n",
        "\n",
        "    # Remove extra whitespaces, new lines, and unwanted characters\n",
        "    text = re.sub(r'\\s+', ' ', text).strip()  # Collapse multiple spaces into one\n",
        "    text = re.sub(r'\\n+', ' ', text)  # Remove excessive newlines\n",
        "    text = re.sub(r'[^\\x00-\\x7F]+', ' ', text)  # Remove non-ASCII characters (optional)\n",
        "\n",
        "    return text"
      ]
    },
    {
      "cell_type": "code",
      "source": [
        "def fetch_data():\n",
        "  df = pd.read_csv(csv_file)\n",
        "  df = df.fillna(\"\")\n",
        "    # Apply function to all rows to create text chunks\n",
        "  df[\"embedding_text\"] = df.apply(format_row_for_embedding, axis=1)\n",
        "\n",
        "  # Convert to a list of documents (each row becomes a text entry)\n",
        "  documents = df[\"embedding_text\"].tolist()\n",
        "\n",
        "  scrape_content = []\n",
        "  for url in web_urls:\n",
        "    scraped_content = scrape_website(url)\n",
        "    scrape_content.append(scraped_content)\n",
        "\n",
        "  scrape_content = [clean_text(scrape_website(url)) for url in web_urls if scrape_website(url)]\n",
        "  return scrape_content, documents"
      ],
      "metadata": {
        "id": "2o_xpJiJ-14j"
      },
      "execution_count": 10,
      "outputs": []
    },
    {
      "cell_type": "code",
      "execution_count": 11,
      "metadata": {
        "id": "k4EbbLek9WZ2"
      },
      "outputs": [],
      "source": [
        "def get_embedding(text):\n",
        "    \"\"\"Generate embeddings using BGE.\"\"\"\n",
        "\n",
        "    model_name = \"BAAI/bge-small-en\"\n",
        "    tokenizer = AutoTokenizer.from_pretrained(model_name)\n",
        "    model = AutoModel.from_pretrained(model_name)\n",
        "    inputs = tokenizer(text, return_tensors=\"pt\", padding=True, truncation=True)\n",
        "    with torch.no_grad():\n",
        "        outputs = model(**inputs)\n",
        "    return outputs.last_hidden_state[:, 0, :].squeeze().numpy()\n",
        "\n",
        "# Process and chunk text with source information\n",
        "def process_and_chunk(data, source_type):\n",
        "    \"\"\"\n",
        "    Process text data into chunks with source information.\n",
        "\n",
        "    Args:\n",
        "        data (list): List of (text, source) tuples.\n",
        "        source_type (str): Either 'url' or 'csv'.\n",
        "\n",
        "    Returns:\n",
        "        list: List of dictionaries with chunked text and source info.\n",
        "    \"\"\"\n",
        "    text_splitter = RecursiveCharacterTextSplitter(\n",
        "        chunk_size=1000,  # Adjust as needed\n",
        "        chunk_overlap=100,\n",
        "        separators=[\"\\n\\n\", \"\\n\", \" \", \"\"]\n",
        "    )\n",
        "\n",
        "    chunks_with_sources = []\n",
        "    for item in data:\n",
        "        text, source = item\n",
        "        chunks = text_splitter.split_text(text)\n",
        "        for i, chunk in enumerate(chunks):\n",
        "            chunks_with_sources.append({\n",
        "                \"chunk\": chunk,\n",
        "                \"source\": source,\n",
        "                \"chunk_id\": f\"{source_type}_{source}_chunk_{i}\"\n",
        "            })\n",
        "    return chunks_with_sources\n",
        "\n",
        "def fetch_faiss_index_and_metadata():\n",
        "  scrape_content, documents = fetch_data()\n",
        "  documents_data = [(text, f\"CSV_Row_{index}\") for index, text in enumerate(documents)]\n",
        "  scrape_data = [(content, url) for content, url in zip(scrape_content, web_urls)]\n",
        "\n",
        "  csv_chunks = process_and_chunk(documents_data, source_type=\"csv\")\n",
        "  web_chunks = process_and_chunk(scrape_data, source_type=\"url\")\n",
        "\n",
        "  all_chunks = csv_chunks + web_chunks\n",
        "\n",
        "  index_path = os.path.join(current_working_directory, \"drive/MyDrive/faiss_index\")\n",
        "  index_file = os.path.join(index_path, \"index_with_citation.faiss\")\n",
        "  metadata_file = os.path.join(index_path, \"metadata.npy\")\n",
        "\n",
        "  # Create or load index\n",
        "  if os.path.exists(index_file):\n",
        "      index = faiss.read_index(index_file)\n",
        "      print(\"Loaded existing FAISS index.\")\n",
        "      metadata = np.load(metadata_file, allow_pickle=True)\n",
        "      print(\"Loaded existing metadata file\")\n",
        "\n",
        "  else:\n",
        "      chunk_embeddings = np.array([get_embedding(chunk['chunk']) for chunk in all_chunks], dtype=\"float32\")\n",
        "      index = faiss.IndexFlatL2(chunk_embeddings.shape[1])\n",
        "      index.add(chunk_embeddings)\n",
        "      faiss.write_index(index, index_file)\n",
        "      print(\"Created and saved new FAISS index.\")\n",
        "\n",
        "      metadata = [{\"source\": chunk['source'], \"chunk_id\": chunk['chunk_id']} for chunk in all_chunks]\n",
        "      np.save(metadata_file, metadata)\n",
        "      print(\"Index and metadata saved successfully.\")\n",
        "  return index, metadata, all_chunks"
      ]
    },
    {
      "cell_type": "markdown",
      "source": [
        "FUNCTION TO BE CALLED WITH QUERY"
      ],
      "metadata": {
        "id": "CnroAPu8B-Q9"
      }
    },
    {
      "cell_type": "code",
      "source": [
        "def get_rag_response(query , index, metadata, all_chunks, open_ai_key):\n",
        "  openai.api_key = open_ai_key\n",
        "\n",
        "  query_embedding = np.array([get_embedding(query)], dtype=\"float32\")\n",
        "\n",
        "  D, I = index.search(query_embedding, k=10)\n",
        "\n",
        "  retrieved_documents = []\n",
        "\n",
        "  if isinstance(metadata, np.ndarray):\n",
        "      metadata = metadata.tolist()\n",
        "\n",
        "  for idx in I[0]:\n",
        "      if idx >=len(all_chunks):\n",
        "        continue\n",
        "      chunk_info = all_chunks[idx]\n",
        "      source_info = metadata[idx]\n",
        "\n",
        "      retrieved_doc = {\n",
        "          \"text\": chunk_info['chunk'],\n",
        "          \"source\": source_info['source'],\n",
        "      }\n",
        "\n",
        "      retrieved_documents.append(retrieved_doc)\n",
        "\n",
        "  prompt = f\"Question: {query}\\n\\n\"\n",
        "  prompt += \"Relevant Information:\\n\"\n",
        "  for i, doc in enumerate(retrieved_documents):\n",
        "      prompt += f\"[{i+1}] {doc}\\n\"\n",
        "\n",
        "  # Adding instruction to generate the response in a JSON format with citations\n",
        "  prompt += \"\"\"\n",
        "  You read the 'Relevant Information' provided, and answer the user question. Provide your answer in a JSON format with citations.\n",
        "\n",
        "  You return a JSON object with the following structure:\n",
        "  {\n",
        "      answer: string,\n",
        "      quote_list: [\n",
        "          {\n",
        "              passage_num: int,\n",
        "              quote: string,\n",
        "              reason: string,\n",
        "              citation: string\n",
        "\n",
        "          }\n",
        "      ]\n",
        "  }.\n",
        "\n",
        "  Explanation of the JSON:\n",
        "  quote_list - an array of quotes from the context that answers the question.\n",
        "  reason - a short explanation why this quote answers the question.\n",
        "  answer - synthesizing your full answer, with citations based on the quotes.\n",
        "  citation - the URL or reference source of the quote coming from Relevant Information (we have stored citation as source in Relevant Information).\n",
        "  \"\"\"\n",
        "\n",
        "  # Use the v1/chat/completions endpoint for chat models like GPT-3.5 Turbo\n",
        "  response = openai.ChatCompletion.create(\n",
        "      model=\"gpt-3.5-turbo\",  # You can replace this with \"gpt-4\" or other models, \"gpt-3.5-turbo\" is typically cheaper\n",
        "      messages=[\n",
        "          {\"role\": \"system\", \"content\": \"You are a helpful assistant.\"},\n",
        "          {\"role\": \"user\", \"content\": prompt},\n",
        "      ],\n",
        "      max_tokens=4096,\n",
        "  )\n",
        "\n",
        "  return (response['choices'][0]['message']['content'].strip())\n"
      ],
      "metadata": {
        "id": "i-Ql8-capkNE"
      },
      "execution_count": 12,
      "outputs": []
    },
    {
      "cell_type": "code",
      "source": [
        "index, metadata, all_chunks = fetch_faiss_index_and_metadata()"
      ],
      "metadata": {
        "colab": {
          "base_uri": "https://localhost:8080/"
        },
        "id": "FffoPmTJCOBM",
        "outputId": "28e4ac28-4bcb-413e-99b1-2d6ec0bc82fe"
      },
      "execution_count": 13,
      "outputs": [
        {
          "output_type": "stream",
          "name": "stdout",
          "text": [
            "Loaded existing FAISS index.\n",
            "Loaded existing metadata file\n"
          ]
        }
      ]
    },
    {
      "cell_type": "code",
      "source": [
        "query = \"Find restaurants near me that serve gluten-free pizza.\"\n",
        "response = get_rag_response(query,index, metadata, all_chunks, open_ai_key)\n",
        "print(response)"
      ],
      "metadata": {
        "colab": {
          "base_uri": "https://localhost:8080/"
        },
        "id": "Cq8gUt_SCw5F",
        "outputId": "562d3b06-8419-4362-89f3-da71c833d659"
      },
      "execution_count": null,
      "outputs": [
        {
          "output_type": "stream",
          "name": "stdout",
          "text": [
            "```json\n",
            "{\n",
            "    \"answer\": \"There is a restaurant named Vega located at 419 Cortland Ave, San Francisco, CA, 94110.0, US, that serves gluten-free pizza.\",\n",
            "    \"quote_list\": [\n",
            "        {\n",
            "            \"passage_num\": 7,\n",
            "            \"quote\": \"Restaurant Name: vega\\n    Menu Category: dinner\\n    Menu Item: gluten free crust\\n    Description: \\n    Ingredients: gluten free flour\\n    Categories: Italian|Pizza\\n    Address: 419 Cortland Ave, San Francisco, CA, 94110.0, US\\n    Rating: 4.1\\n    Review Count: 729.0\\n    Price: $$\",\n",
            "            \"reason\": \"This quote provides specific information about a restaurant named Vega that serves gluten-free pizza.\",\n",
            "            \"citation\": \"https://www.tripadvisor.com/Restaurants-g60745-Boston_Massachusetts.html\"\n",
            "        }\n",
            "    ]\n",
            "}\n",
            "```\n"
          ]
        }
      ]
    },
    {
      "cell_type": "code",
      "source": [
        "query = \"How has the use of saffron in desserts changed over the last year, according to restaurant menus or news articles?\"\n",
        "response = get_rag_response(query,index, metadata, all_chunks, open_ai_key)\n",
        "print(response)"
      ],
      "metadata": {
        "colab": {
          "base_uri": "https://localhost:8080/"
        },
        "id": "OVviCoZ9CxGE",
        "outputId": "a0e5f46a-bc76-46e0-9a06-08931156733a"
      },
      "execution_count": null,
      "outputs": [
        {
          "output_type": "stream",
          "name": "stdout",
          "text": [
            "{\n",
            "    \"answer\": \"The use of saffron in desserts seems to have maintained its popularity and traditional associations, as there are no specific mentions of significant changes over the last year in restaurant menus or news articles.\",\n",
            "    \"quote_list\": [\n",
            "        {\n",
            "            \"passage_num\": 2,\n",
            "            \"quote\": \"Kouign Amann, Brittany, France ... Once a little-known treat that drew pastry pilgrims to Brittany, the kouign amann has officially made it big.\",\n",
            "            \"reason\": \"This quote highlights the rise in popularity of a traditional dessert, suggesting that saffron desserts may also be maintaining their appeal without major changes.\",\n",
            "            \"citation\": \"https://www.tasteofhome.com/collection/desserts-from-around-the-world/?srsltid=AfmBOopJExfZcF137ou1NsvEQim6asBJinKh4KtxxGge047IsEicDTH4\"\n",
            "        },\n",
            "        {\n",
            "            \"passage_num\": 4,\n",
            "            \"quote\": \"Cardamom Buns, Sweden ... While a freshly baked cardamom bun is a memorable treat, it\\u2019s also a simple and comforting one.\",\n",
            "            \"reason\": \"This quote illustrates the enduring popularity of traditional desserts, suggesting that saffron desserts may be similarly favored without major changes.\",\n",
            "            \"citation\": \"https://en.wikipedia.org/wiki/Italian_cuisine\"\n",
            "        }\n",
            "    ]\n",
            "}\n"
          ]
        }
      ]
    },
    {
      "cell_type": "code",
      "source": [
        "query = \"define indian cusine?\"\n",
        "response = get_rag_response(query,index, metadata, all_chunks, open_ai_key)\n",
        "print(response)"
      ],
      "metadata": {
        "colab": {
          "base_uri": "https://localhost:8080/"
        },
        "id": "KWk0vWFqDM9N",
        "outputId": "c161e227-d8bd-4076-b2f3-a353a2dbbf3d"
      },
      "execution_count": null,
      "outputs": [
        {
          "output_type": "stream",
          "name": "stdout",
          "text": [
            "{\n",
            "    \"answer\": \"Indian cuisine consists of a variety of regional and traditional cuisines native to the Indian subcontinent. It is influenced by the diversity in soil, climate, culture, and occupations, resulting in substantial variations. Indian food heavily relies on locally available spices, herbs, vegetables, and fruits, with influences from Hinduism, Islam, and historical events like colonialism and trade relations. The introduction of new vegetables and fruits like potatoes, tomatoes, chillies, peanuts, and guava has become staples, shaping the history of international relations through the spice trade between India and Europe.\",\n",
            "    \"quote_list\": [\n",
            "        {\n",
            "            \"passage_num\": 1,\n",
            "            \"quote\": \"Indian cuisine consists of a variety of regional and traditional cuisines native to the Indian subcontinent.\",\n",
            "            \"reason\": \"Defines what Indian cuisine consists of.\",\n",
            "            \"citation\": \"https://en.wikipedia.org/wiki/American_cuisine\"\n",
            "        },\n",
            "        {\n",
            "            \"passage_num\": 1,\n",
            "            \"quote\": \"Given the diversity in soil, climate, culture, ethnic groups, and occupations, these cuisines vary substantially and use locally available spices, herbs, vegetables, and fruits.\",\n",
            "            \"reason\": \"Explains the influence of different factors on the diversity of Indian cuisine.\",\n",
            "            \"citation\": \"https://en.wikipedia.org/wiki/American_cuisine\"\n",
            "        },\n",
            "        {\n",
            "            \"passage_num\": 1,\n",
            "            \"quote\": \"Indian food is also heavily influenced by religion, in particular Hinduism and Islam, cultural choices and traditions.\",\n",
            "            \"reason\": \"Highlights the religious and cultural influences on Indian cuisine.\",\n",
            "            \"citation\": \"https://en.wikipedia.org/wiki/American_cuisine\"\n",
            "        },\n",
            "        {\n",
            "            \"passage_num\": 1,\n",
            "            \"quote\": \"The Columbian discovery of the New World brought a number of new vegetables and fruits. A number of these such as potatoes, tomatoes, chillies, peanuts, and guava have become staples in many regions of India.\",\n",
            "            \"reason\": \"Mentions the impact of historical events like the Columbian discovery on Indian cuisine.\",\n",
            "            \"citation\": \"https://en.wikipedia.org/wiki/American_cuisine\"\n",
            "        },\n",
            "        {\n",
            "            \"passage_num\": 1,\n",
            "            \"quote\": \"Indian cuisine has shaped the history of international relations; the spice trade between India and Europe was the primary catalyst for Europe's Age of Discovery.\",\n",
            "            \"reason\": \"Explains how Indian cuisine played a significant role in international relations.\",\n",
            "            \"citation\": \"https://en.wikipedia.org/wiki/American_cuisine\"\n",
            "        }\n",
            "    ]\n",
            "}\n"
          ]
        }
      ]
    },
    {
      "cell_type": "code",
      "source": [
        "query = \"what are the ingredients in american food?\"\n",
        "response = get_rag_response(query,index, metadata, all_chunks, open_ai_key)\n",
        "print(response)"
      ],
      "metadata": {
        "colab": {
          "base_uri": "https://localhost:8080/"
        },
        "id": "RwaBetR0DVKM",
        "outputId": "5deefb38-f551-4a86-ae4b-3a9c2a1be29f"
      },
      "execution_count": null,
      "outputs": [
        {
          "output_type": "stream",
          "name": "stdout",
          "text": [
            "{\n",
            "    \"answer\": \"American cuisine consists of a wide range of styles and influences from different regions and cultures. Some popular American foods include BBQ from places like Alabama, Kansas City, and Texas, soul food, fast food, and fusion dishes. Ingredients commonly used in American food include a variety of meats like beef, pork, and chicken, seafood, pasta, fruits, vegetables, as well as different spices and flavorings.\",\n",
            "    \"quote_list\": [\n",
            "        {\n",
            "            \"passage_num\": 1,\n",
            "            \"quote\": \"American cuisine consists of the cooking style\",\n",
            "            \"reason\": \"Mentions the broad scope of American cuisine incorporating various cooking styles.\",\n",
            "            \"citation\": \"https://www.allrecipes.com/article/essential-italian-pantry-ingredients/\"\n",
            "        },\n",
            "        {\n",
            "            \"passage_num\": 8,\n",
            "            \"quote\": \"Another example of popularized fusion foods is the Korean stew budae-jjigae, which was created by combining American ingredients of Spam, Vienna sausages, and sliced cheese\",\n",
            "            \"reason\": \"Highlights the fusion of American ingredients like Spam, sausages, and cheese in Korean cuisine.\",\n",
            "            \"citation\": \"https://www.slofoodbank.org/food-as-culture/\"\n",
            "        }\n",
            "    ]\n",
            "}\n"
          ]
        }
      ]
    },
    {
      "cell_type": "code",
      "source": [
        "query = \"list a few famous food places in Boston\"\n",
        "response = get_rag_response(query,index, metadata, all_chunks, open_ai_key)\n",
        "print(response)"
      ],
      "metadata": {
        "colab": {
          "base_uri": "https://localhost:8080/"
        },
        "id": "tUswbzwwDedk",
        "outputId": "9f812be2-0598-42e9-afe0-0c32f32bd5fe"
      },
      "execution_count": null,
      "outputs": [
        {
          "output_type": "stream",
          "name": "stdout",
          "text": [
            "{\n",
            "    \"answer\": \"Some famous food places in Boston include Donatos, Fogo de Ch\\u00e3o, and The Granola Bar.\",\n",
            "    \"quote_list\": [\n",
            "        {\n",
            "            \"passage_num\": 2,\n",
            "            \"quote\": \"Pizza chain Donatos pairs consistency, innovation as it pursues franchise growth\",\n",
            "            \"reason\": \"Donatos is mentioned as a famous food place in Boston that focuses on consistency and innovation.\",\n",
            "            \"citation\": \"https://www.tripadvisor.com/Restaurants-g60745-Boston_Massachusetts.html\"\n",
            "        },\n",
            "        {\n",
            "            \"passage_num\": 2,\n",
            "            \"quote\": \"How Brazilian steakhouse brand Fogo de Ch\\u00e3o surged onto America s favorite chain list\",\n",
            "            \"reason\": \"Fogo de Ch\\u00e3o is highlighted as a renowned food spot in Boston that has become one of America's favorite chains.\",\n",
            "            \"citation\": \"https://www.tripadvisor.com/Restaurants-g60745-Boston_Massachusetts.html\"\n",
            "        },\n",
            "        {\n",
            "            \"passage_num\": 2,\n",
            "            \"quote\": \"Cofounders of modern diner chain The Granola Bar share how they  fell forward  into growth\",\n",
            "            \"reason\": \"The Granola Bar is mentioned as an esteemed food location in Boston with a modern diner concept.\",\n",
            "            \"citation\": \"https://www.tripadvisor.com/Restaurants-g60745-Boston_Massachusetts.html\"\n",
            "        }\n",
            "    ]\n",
            "}\n"
          ]
        }
      ]
    },
    {
      "cell_type": "code",
      "source": [
        "query = \"list key ingredients of a tiramisu\"\n",
        "response = get_rag_response(query,index, metadata, all_chunks, open_ai_key)\n",
        "print(response)"
      ],
      "metadata": {
        "colab": {
          "base_uri": "https://localhost:8080/"
        },
        "id": "Zc06Yr5IDn_N",
        "outputId": "4a4c402b-5861-46f7-f32e-112f30096a3f"
      },
      "execution_count": null,
      "outputs": [
        {
          "output_type": "stream",
          "name": "stdout",
          "text": [
            "```json\n",
            "{\n",
            "    \"answer\": \"Key ingredients of a tiramisu typically include cocoa powder, eggs, sugar, mascarpone cheese, espresso, coffee liqueur, and ladyfingers.\",\n",
            "    \"quote_list\": [\n",
            "        {\n",
            "            \"passage_num\": 1,\n",
            "            \"quote\": \"Ingredients: cocoa powder\",\n",
            "            \"reason\": \"This quote mentions cocoa powder as an ingredient in tiramisu.\",\n",
            "            \"citation\": \"CSV_Row_50820\"\n",
            "        },\n",
            "        {\n",
            "            \"passage_num\": 2,\n",
            "            \"quote\": \"Ingredients: eggs\",\n",
            "            \"reason\": \"This quote lists eggs as an ingredient used in tiramisu.\",\n",
            "            \"citation\": \"CSV_Row_50822\"\n",
            "        },\n",
            "        {\n",
            "            \"passage_num\": 3,\n",
            "            \"quote\": \"Ingredients: sugar\",\n",
            "            \"reason\": \"Sugar is identified as one of the ingredients in tiramisu in this quote.\",\n",
            "            \"citation\": \"CSV_Row_50826\"\n",
            "        },\n",
            "        {\n",
            "            \"passage_num\": 4,\n",
            "            \"quote\": \"Ingredients: mascarpone cheese\",\n",
            "            \"reason\": \"The mention of mascarpone cheese in this quote confirms it as a key ingredient in tiramisu.\",\n",
            "            \"citation\": \"CSV_Row_50825\"\n",
            "        },\n",
            "        {\n",
            "            \"passage_num\": 5,\n",
            "            \"quote\": \"Ingredients: espresso\",\n",
            "            \"reason\": \"Espresso is highlighted as an essential ingredient in this quote.\",\n",
            "            \"citation\": \"CSV_Row_50823\"\n",
            "        },\n",
            "        {\n",
            "            \"passage_num\": 6,\n",
            "            \"quote\": \"Ingredients: coffee liqueur\",\n",
            "            \"reason\": \"The presence of coffee liqueur is mentioned as a key component in this quote.\",\n",
            "            \"citation\": \"CSV_Row_50821\"\n",
            "        },\n",
            "        {\n",
            "            \"passage_num\": 9,\n",
            "            \"quote\": \"Ingredients: ladyfingers\",\n",
            "            \"reason\": \"Ladyfingers are acknowledged as part of the ingredients used in tiramisu in this quote.\",\n",
            "            \"citation\": \"CSV_Row_50824\"\n",
            "        }\n",
            "    ]\n",
            "}\n",
            "```\n"
          ]
        }
      ]
    },
    {
      "cell_type": "code",
      "source": [
        "query = \"Define fusion cuisine with examples from local menus.\"\n",
        "response = get_rag_response(query,index, metadata, all_chunks, open_ai_key)\n",
        "print(response)"
      ],
      "metadata": {
        "colab": {
          "base_uri": "https://localhost:8080/"
        },
        "id": "O52BK6ZN7yi6",
        "outputId": "137ab544-8941-4d62-cae5-bd6521153163"
      },
      "execution_count": 15,
      "outputs": [
        {
          "output_type": "stream",
          "name": "stdout",
          "text": [
            "{\n",
            "    \"answer\": \"Fusion cuisine blends ingredients and cooking techniques from different countries or regions to create a new type of cuisine. It can be created by chefs or occur naturally, resulting in dishes like pancit palabok from Filipino cuisine, which combines Chinese rice noodles and tofu with Mexican annatto seeds, Spanish chicharon, and native smoked fish flakes. Fusion cuisine examples from local menus include dishes like mixed vegetables with onions and broccoli at The Spice Jar in San Francisco, categorized under Asian Fusion.\",\n",
            "    \"quote_list\": [\n",
            "        {\n",
            "            \"passage_num\": 1,\n",
            "            \"quote\": \"The term fusion cuisine is defined as 'a style of cookery which blends ingredients and methods of preparation from different countries, regions, or ethnic groups; food cooked in this style.' Fusion food is created by combining various cooking techniques from different cultures to produce a new type of cuisine.\",\n",
            "            \"reason\": \"Defines fusion cuisine and explains how it blends ingredients and cooking methods from different cultures.\",\n",
            "            \"citation\": \"https://priceonomics.com/what-are-the-defining-ingredients-of-a-cultures/\"\n",
            "        },\n",
            "        {\n",
            "            \"passage_num\": 3,\n",
            "            \"quote\": \"For example, a taco pizza is a type of pizza created using taco ingredients such as cheddar and pepper jack cheese, salsa, refried beans, and other common taco ingredients, fusing both Italian and Mexican cuisines.\",\n",
            "            \"reason\": \"Provides an example of fusion cuisine by combining Italian and Mexican ingredients to create a taco pizza.\",\n",
            "            \"citation\": \"https://priceonomics.com/what-are-the-defining-ingredients-of-a-cultures/\"\n",
            "        },\n",
            "        {\n",
            "            \"passage_num\": 7,\n",
            "            \"quote\": \"Restaurant Name: the spice jar, Menu Category: add-on, Menu Item: mixed vegetables, Description: Ingredients: onions, Categories: Asian Fusion, Address: 2500 Bryant St, San Francisco, CA, 94110.0, US\",\n",
            "           \"reason\": \"Highlights an example of fusion cuisine with mixed vegetables at The Spice Jar categorized under Asian Fusion in San Francisco.\",\n",
            "            \"citation\": \"CSV_Row_47580\"\n",
            "        },\n",
            "        {\n",
            "            \"passage_num\": 10,\n",
            "            \"quote\": \"Restaurant Name: the spice jar, Menu Category: add-on, Menu Item: mixed vegetables, Description: Ingredients: broccoli, Categories: Asian Fusion, Address: 2500 Bryant St, San Francisco, CA, 94110.0, US\",\n",
            "            \"reason\": \"Shows another example of fusion cuisine at The Spice Jar with mixed vegetables containing broccoli under Asian Fusion.\",\n",
            "            \"citation\": \"CSV_Row_47577\"\n",
            "        }\n",
            "    ]\n",
            "}\n"
          ]
        }
      ]
    },
    {
      "cell_type": "code",
      "source": [
        "query = \"Has there been an increase in the use of plant-based meat alternatives in restaurant menus this year?\"\n",
        "response = get_rag_response(query,index, metadata, all_chunks, open_ai_key)\n",
        "print(response)"
      ],
      "metadata": {
        "colab": {
          "base_uri": "https://localhost:8080/"
        },
        "id": "B1Ybkz2y8J15",
        "outputId": "153dcd4a-7888-4b85-e0ab-e820f226fff3"
      },
      "execution_count": 17,
      "outputs": [
        {
          "output_type": "stream",
          "name": "stdout",
          "text": [
            "{\n",
            "    \"answer\": \"Yes, there has been an increase in the use of plant-based meat alternatives in restaurant menus this year.\",\n",
            "    \"quote_list\": [\n",
            "        {\n",
            "            \"passage_num\": 7,\n",
            "            \"quote\": \"Restaurant Name: vega Menu Category: dinner Menu Item: pizza vegetariana Description: homemade tomato sauce, mozzarella, mushrooms, zucchini, caramelized onions, olives, arugula. ... sub vegan cheese $1 Ingredients: mushrooms...\",\n",
            "            \"reason\": \"This quote mentions the availability of vegan cheese as a substitution option, indicating an increase in plant-based alternatives.\",\n",
            "            \"citation\": \"CSV_Row_49928\"\n",
            "        },\n",
            "        {\n",
            "            \"passage_num\": 10,\n",
            "            \"quote\": \"Restaurant Name: vega Menu Category: dinner Menu Item: pizza vegetariana Description: homemade tomato sauce, mozzarella, mushrooms, zucchini, caramelized onions, olives, arugula. ... sub vegan cheese $1 Ingredients: farm egg...\",\n",
            "            \"reason\": \"This quote highlights the option to substitute farm egg with vegan cheese, further indicating a rise in plant-based alternatives on menus.\",\n",
            "            \"citation\": \"CSV_Row_49925\"\n",
            "        }\n",
            "    ]\n",
            "}\n"
          ]
        }
      ]
    },
    {
      "cell_type": "code",
      "source": [
        "query = \"Whats the weather in Boston?\"\n",
        "response = get_rag_response(query,index, metadata, all_chunks, open_ai_key)\n",
        "print(response)"
      ],
      "metadata": {
        "colab": {
          "base_uri": "https://localhost:8080/"
        },
        "id": "F-YlTVnt8Wzp",
        "outputId": "b7971fac-d6eb-4d7a-8066-ee9ba5847874"
      },
      "execution_count": 18,
      "outputs": [
        {
          "output_type": "stream",
          "name": "stdout",
          "text": [
            "```json\n",
            "{\n",
            "    \"answer\": \"I'm sorry, but there is no information about the current weather in Boston in the provided context.\",\n",
            "    \"quote_list\": []\n",
            "}\n",
            "```\n"
          ]
        }
      ]
    }
  ],
  "metadata": {
    "colab": {
      "provenance": [],
      "authorship_tag": "ABX9TyP4tVGh2zE7x5hP7VvpvNSg",
      "include_colab_link": true
    },
    "kernelspec": {
      "display_name": "Python 3",
      "name": "python3"
    },
    "language_info": {
      "name": "python"
    }
  },
  "nbformat": 4,
  "nbformat_minor": 0
}